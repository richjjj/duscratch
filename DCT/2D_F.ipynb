{
 "cells": [
  {
   "cell_type": "markdown",
   "metadata": {},
   "source": [
    "# 离散傅立叶变换(DFT，Discrete Fourier Transform)\n",
    "- https://www.zhihu.com/question/22611929?sort=created"
   ]
  },
  {
   "cell_type": "markdown",
   "metadata": {},
   "source": [
    "![](remove_freq.jpg)"
   ]
  },
  {
   "attachments": {},
   "cell_type": "markdown",
   "metadata": {},
   "source": [
    "## 2D正变换-DFT\n",
    "## \n",
    "$$\n",
    "    F(u, v) = \\sum_{x=0}^{X_{size}-1}\\sum_{y=0}^{Y_{size}-1}f(x, y)e^{-2j\\pi (\\frac{xu}{X_{size}} + \\frac{yv}{Y_{size}} )}\n",
    "$$"
   ]
  },
  {
   "attachments": {},
   "cell_type": "markdown",
   "metadata": {},
   "source": [
    "## 2D逆变换-IDFT\n",
    "## \n",
    "$$\n",
    "    f(x, y) = \\frac{1}{U_{size}V_{size}} \\sum_{u=0}^{U_{size}-1}\\sum_{v=0}^{V_{size}-1}F(u, v)e^{2j\\pi (\\frac{xu}{X_{size}} + \\frac{yv}{Y_{size}} )}\n",
    "$$"
   ]
  },
  {
   "cell_type": "code",
   "execution_count": 1,
   "metadata": {},
   "outputs": [],
   "source": [
    "import numpy as np\n",
    "import cv2\n",
    "import matplotlib.pyplot as plt"
   ]
  },
  {
   "cell_type": "code",
   "execution_count": 2,
   "metadata": {},
   "outputs": [],
   "source": [
    "def dft2d(image, xnfreq, ynfreq):\n",
    "    yndata  = image.shape[0]\n",
    "    xndata  = image.shape[1]\n",
    "\n",
    "    output = np.zeros((ynfreq, xnfreq), dtype=np.complex)\n",
    "    for xifreq in range(xnfreq):\n",
    "        for yifreq in range(ynfreq):\n",
    "            for xidata in range(xndata):\n",
    "                for yidata in range(yndata):\n",
    "                    output[yifreq, xifreq] += image[yidata, xidata] * np.exp(-2j * np.pi * (xifreq * xidata / xndata + yifreq * yidata / yndata))\n",
    "    return output\n",
    "\n",
    "def idft2d(dft_image, xndata, yndata):\n",
    "    ynfreq  = dft_image.shape[0]\n",
    "    xnfreq  = dft_image.shape[1]\n",
    "    \n",
    "    image = np.zeros((yndata, xndata), dtype=np.complex)\n",
    "    for xifreq in range(xnfreq):\n",
    "        for yifreq in range(ynfreq):\n",
    "            for xidata in range(xndata):\n",
    "                for yidata in range(yndata):\n",
    "                    image[yidata, xidata] += dft_image[yifreq, xifreq] * np.exp(2j * np.pi * (xifreq * xidata / xndata + yifreq * yidata / yndata))\n",
    "    return image / (xnfreq * ynfreq)\n",
    "\n",
    "def fftshift(dft_image):\n",
    "    \n",
    "    h, w = dft_image.shape\n",
    "    cx, cy = w // 2, h // 2\n",
    "    \n",
    "    lt = dft_image[:cy, :cx]\n",
    "    rt = dft_image[:cy, cx:]\n",
    "    lb = dft_image[cy:, :cx]\n",
    "    rb = dft_image[cy:, cx:]\n",
    "    \n",
    "    new_dft = dft_image.copy()\n",
    "    new_dft[:cy, :cx] = rb\n",
    "    new_dft[:cy, cx:] = lb\n",
    "    new_dft[cy:, :cx] = rt\n",
    "    new_dft[cy:, cx:] = lt\n",
    "    return new_dft"
   ]
  },
  {
   "cell_type": "code",
   "execution_count": 3,
   "metadata": {},
   "outputs": [],
   "source": [
    "image = cv2.resize(cv2.imread(\"bck.png\", 0), (28, 28)) / 255.0"
   ]
  },
  {
   "cell_type": "code",
   "execution_count": 4,
   "metadata": {},
   "outputs": [],
   "source": [
    "width = image.shape[1]\n",
    "height = image.shape[0]\n",
    "dft_image = dft2d(image, width, height)"
   ]
  },
  {
   "cell_type": "code",
   "execution_count": 5,
   "metadata": {},
   "outputs": [
    {
     "data": {
      "text/plain": [
       "<matplotlib.image.AxesImage at 0x7f9008844550>"
      ]
     },
     "execution_count": 5,
     "metadata": {},
     "output_type": "execute_result"
    },
    {
     "data": {
      "image/png": "[encoded data removed]",
      "text/plain": [
       "<Figure size 432x288 with 1 Axes>"
      ]
     },
     "metadata": {
      "needs_background": "light"
     },
     "output_type": "display_data"
    }
   ],
   "source": [
    "plt.imshow(dft_image.real)"
   ]
  },
  {
   "cell_type": "code",
   "execution_count": 6,
   "metadata": {},
   "outputs": [
    {
     "data": {
      "text/plain": [
       "<matplotlib.image.AxesImage at 0x7f900873fe10>"
      ]
     },
     "execution_count": 6,
     "metadata": {},
     "output_type": "execute_result"
    },
    {
     "data": {
      "image/png": "[encoded data removed]",
      "text/plain": [
       "<Figure size 432x288 with 1 Axes>"
      ]
     },
     "metadata": {
      "needs_background": "light"
     },
     "output_type": "display_data"
    }
   ],
   "source": [
    "shift_dft = fftshift(dft_image)\n",
    "plt.imshow(shift_dft.real)"
   ]
  },
  {
   "cell_type": "code",
   "execution_count": 7,
   "metadata": {},
   "outputs": [
    {
     "data": {
      "text/plain": [
       "<matplotlib.image.AxesImage at 0x7f9008627950>"
      ]
     },
     "execution_count": 7,
     "metadata": {},
     "output_type": "execute_result"
    },
    {
     "data": {
      "image/png": "[encoded data removed]",
      "text/plain": [
       "<Figure size 1440x720 with 4 Axes>"
      ]
     },
     "metadata": {
      "needs_background": "light"
     },
     "output_type": "display_data"
    }
   ],
   "source": [
    "dft_vector = shift_dft.reshape(-1)\n",
    "dft_range = np.sqrt(dft_vector.real ** 2 + dft_vector.imag ** 2)\n",
    "dft_index = np.arange(len(dft_range))\n",
    "dft_union = list(zip(dft_vector, dft_range, dft_index))\n",
    "dft_union_sort = list(sorted(dft_union, key=lambda x: x[1], reverse=True))\n",
    "\n",
    "keep_prob = 0.3\n",
    "keep_dims = int(keep_prob * len(dft_union_sort))\n",
    "keep_vector, keep_range, keep_index = zip(*dft_union_sort[:keep_dims])\n",
    "dft_new_vector = np.zeros(dft_vector.shape, dtype=np.complex)\n",
    "dft_new_vector[np.array(keep_index)] = keep_vector\n",
    "keep_shift_dft = dft_new_vector.reshape(28, 28)\n",
    "\n",
    "plt.figure(figsize=(20, 10))\n",
    "plt.subplot(1, 4, 1)\n",
    "plt.title(f\"keep {keep_prob:.2f} shift dft\")\n",
    "plt.imshow(keep_shift_dft.real)\n",
    "\n",
    "shift_keep_dft = fftshift(keep_shift_dft)\n",
    "plt.subplot(1, 4, 2)\n",
    "plt.title(f\"keep {keep_prob:.2f} dft\")\n",
    "plt.imshow(shift_keep_dft.real)\n",
    "\n",
    "restore_image = idft2d(shift_keep_dft, width, height)\n",
    "plt.subplot(1, 4, 3)\n",
    "plt.title(f\"keep {keep_prob:.2f} restore image\")\n",
    "plt.imshow(restore_image.real, vmin=0, vmax=1)\n",
    "\n",
    "plt.subplot(1, 4, 4)\n",
    "plt.title(f\"raw image\")\n",
    "plt.imshow(image, vmin=0, vmax=1)"
   ]
  },
  {
   "cell_type": "code",
   "execution_count": 8,
   "metadata": {},
   "outputs": [
    {
     "data": {
      "text/plain": [
       "array([[1., 2.],\n",
       "       [5., 3.]])"
      ]
     },
     "execution_count": 8,
     "metadata": {},
     "output_type": "execute_result"
    }
   ],
   "source": [
    "matrix = np.array([\n",
    "    [1, 2],\n",
    "    [5, 3]\n",
    "])\n",
    "\n",
    "dft_matrix = dft2d(matrix, matrix.shape[1], matrix.shape[0])\n",
    "idft2d(dft_matrix, matrix.shape[1], matrix.shape[0]).real"
   ]
  }
 ],
 "metadata": {
  "kernelspec": {
   "display_name": "Python 3 (ipykernel)",
   "language": "python",
   "name": "python3"
  },
  "language_info": {
   "codemirror_mode": {
    "name": "ipython",
    "version": 3
   },
   "file_extension": ".py",
   "mimetype": "text/x-python",
   "name": "python",
   "nbconvert_exporter": "python",
   "pygments_lexer": "ipython3",
   "version": "3.9.7"
  }
 },
 "nbformat": 4,
 "nbformat_minor": 4
}
