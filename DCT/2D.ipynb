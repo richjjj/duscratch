{
 "cells": [
  {
   "cell_type": "markdown",
   "metadata": {},
   "source": [
    "# 离散余弦变换(DCT，Discrete Cosine Transform)\n",
    "- https://www.cnblogs.com/wyuzl/p/7880124.html\n",
    "- 相比DFT而言，只保留了实数部分，并且能量大都集中在左上角部分\n",
    "- 根据DCT的特性，提出Z-Scan，以左上角为起点进行扫描，因此会容易出现大量的连续0，进而实现压缩"
   ]
  },
  {
   "attachments": {},
   "cell_type": "markdown",
   "metadata": {},
   "source": [
    "## 2D正变换-DCT\n",
    "### \n",
    "$$\n",
    "    F(u, v) = c(u)c(v) \\sum_{x=0}^{X_{size}-1}\\sum_{y=0}^{Y_{size}-1}f(x, y)\\cos[\\frac{(x+0.5)\\pi}{X_{size}}u]\\cos[\\frac{(y+0.5)\\pi}{Y_{size}}v] \\\\\n",
    "    c(u) = \\left\\{\n",
    "\\begin{aligned}\n",
    "\\sqrt{\\frac{1}{U_{size}}} & , & u=0 \\\\\n",
    "\\sqrt{\\frac{2}{U_{size}}} & , & u\\neq0\n",
    "\\end{aligned}\n",
    "\\right.  \\\\\n",
    "    c(v) = \\left\\{\n",
    "\\begin{aligned}\n",
    "\\sqrt{\\frac{1}{V_{size}}} & , & v=0 \\\\\n",
    "\\sqrt{\\frac{2}{V_{size}}} & , & v\\neq0\n",
    "\\end{aligned}\n",
    "\\right.\n",
    "$$"
   ]
  },
  {
   "attachments": {},
   "cell_type": "markdown",
   "metadata": {},
   "source": [
    "## 2D逆变换-IDCT\n",
    "### \n",
    "$$\n",
    "    f(x, y) = \\sum_{u=0}^{U_{size}-1}\\sum_{v=0}^{V_{size}-1}c(u)c(v)F(u, v)\\cos[\\frac{(x+0.5)\\pi}{X_{size}}u]\\cos[\\frac{(y+0.5)\\pi}{Y_{size}}v] \\\\\n",
    "    c(u) = \\left\\{\n",
    "\\begin{aligned}\n",
    "\\sqrt{\\frac{1}{U_{size}}} & , & u=0 \\\\\n",
    "\\sqrt{\\frac{2}{U_{size}}} & , & u\\neq0\n",
    "\\end{aligned}\n",
    "\\right.  \\\\\n",
    "    c(v) = \\left\\{\n",
    "\\begin{aligned}\n",
    "\\sqrt{\\frac{1}{V_{size}}} & , & v=0 \\\\\n",
    "\\sqrt{\\frac{2}{V_{size}}} & , & v\\neq0\n",
    "\\end{aligned}\n",
    "\\right.\n",
    "$$"
   ]
  },
  {
   "cell_type": "markdown",
   "metadata": {},
   "source": [
    "- 由于DCT的对称性，可以用矩阵方式表达更为简单\n",
    "- 2D的DCT处理时，$U_{size} == X_{size}, V_{size} == Y_{size}$，对应的是图像的宽高，网上全部用N表示容易矛盾冲突\n",
    "- DCT由DFT去掉虚部推导而来"
   ]
  },
  {
   "cell_type": "code",
   "execution_count": 1,
   "metadata": {},
   "outputs": [],
   "source": [
    "import numpy as np\n",
    "import cv2\n",
    "import os\n",
    "import matplotlib.pyplot as plt"
   ]
  },
  {
   "cell_type": "code",
   "execution_count": 2,
   "metadata": {},
   "outputs": [],
   "source": [
    "def dct2d(image, xnfreq, ynfreq):\n",
    "    yndata  = image.shape[0]\n",
    "    xndata  = image.shape[1]\n",
    "\n",
    "    output = np.zeros((ynfreq, xnfreq))\n",
    "    for xifreq in range(xnfreq):\n",
    "        for yifreq in range(ynfreq):\n",
    "            cx = np.sqrt(1 / xnfreq) if xifreq == 0 else np.sqrt(2 / xnfreq)\n",
    "            cy = np.sqrt(1 / ynfreq) if yifreq == 0 else np.sqrt(2 / ynfreq)\n",
    "            for xidata in range(xndata):\n",
    "                for yidata in range(yndata):\n",
    "                    output[yifreq, xifreq] += image[yidata, xidata] * np.cos((xidata + 0.5) * np.pi / xndata * xifreq) * np.cos((yidata + 0.5) * np.pi / yndata * yifreq)\n",
    "            \n",
    "            output[yifreq, xifreq] *= cx * cy\n",
    "    return output\n",
    "\n",
    "def idct2d(dct_image, xndata, yndata):\n",
    "    ynfreq  = dct_image.shape[0]\n",
    "    xnfreq  = dct_image.shape[1]\n",
    "    \n",
    "    image = np.zeros((yndata, xndata))\n",
    "    for xidata in range(xndata):\n",
    "        for yidata in range(yndata):\n",
    "            for xifreq in range(xnfreq):\n",
    "                for yifreq in range(ynfreq):\n",
    "                    cx = np.sqrt(1 / xnfreq) if xifreq == 0 else np.sqrt(2 / xnfreq)\n",
    "                    cy = np.sqrt(1 / ynfreq) if yifreq == 0 else np.sqrt(2 / ynfreq)\n",
    "                    image[yidata, xidata] += cx * cy * dct_image[yifreq, xifreq] * np.cos((xidata + 0.5) * np.pi / xnfreq * xifreq) * np.cos((yidata + 0.5) * np.pi / ynfreq * yifreq)\n",
    "    return image"
   ]
  },
  {
   "cell_type": "code",
   "execution_count": 3,
   "metadata": {},
   "outputs": [],
   "source": [
    "image = cv2.resize(cv2.imread(\"bck.png\", 0), (28, 28)) / 255.0"
   ]
  },
  {
   "cell_type": "code",
   "execution_count": 4,
   "metadata": {},
   "outputs": [
    {
     "data": {
      "text/plain": [
       "<matplotlib.image.AxesImage at 0x7f6300f29f50>"
      ]
     },
     "execution_count": 4,
     "metadata": {},
     "output_type": "execute_result"
    },
    {
     "data": {
      "image/png": "[encoded data removed]",
      "text/plain": [
       "<Figure size 432x288 with 1 Axes>"
      ]
     },
     "metadata": {
      "needs_background": "light"
     },
     "output_type": "display_data"
    }
   ],
   "source": [
    "width = image.shape[1]\n",
    "height = image.shape[0]\n",
    "dct_image = dct2d(image, width, height)\n",
    "plt.imshow(dct_image)"
   ]
  },
  {
   "cell_type": "code",
   "execution_count": 15,
   "metadata": {},
   "outputs": [
    {
     "data": {
      "text/plain": [
       "<matplotlib.image.AxesImage at 0x7f62fe259890>"
      ]
     },
     "execution_count": 15,
     "metadata": {},
     "output_type": "execute_result"
    },
    {
     "data": {
      "image/png": "[encoded data removed]",
      "text/plain": [
       "<Figure size 1440x720 with 3 Axes>"
      ]
     },
     "metadata": {
      "needs_background": "light"
     },
     "output_type": "display_data"
    }
   ],
   "source": [
    "dct_vector = dct_image.reshape(-1)\n",
    "dct_index = np.arange(len(dct_vector))\n",
    "dct_union = list(zip(dct_vector, np.abs(dct_vector), dct_index))\n",
    "dct_union_sort = list(sorted(dct_union, key=lambda x: x[1], reverse=True))\n",
    "\n",
    "keep_prob = 0.1\n",
    "keep_dims = int(keep_prob * len(dct_union_sort))\n",
    "keep_vector, _, keep_index = zip(*dct_union_sort[:keep_dims])\n",
    "dct_new_vector = np.zeros(dct_vector.shape)\n",
    "dct_new_vector[np.array(keep_index)] = keep_vector\n",
    "keep_dct = dct_new_vector.reshape(28, 28)\n",
    "\n",
    "plt.figure(figsize=(20, 10))\n",
    "plt.subplot(1, 3, 1)\n",
    "plt.title(f\"keep {keep_prob:.2f} dct\")\n",
    "plt.imshow(keep_dct)\n",
    "\n",
    "restore_image = idct2d(keep_dct, width, height)\n",
    "plt.subplot(1, 3, 2)\n",
    "plt.title(f\"keep {keep_prob:.2f} restore image\")\n",
    "plt.imshow(restore_image, vmin=0, vmax=1)\n",
    "\n",
    "plt.subplot(1, 3, 3)\n",
    "plt.title(f\"raw image\")\n",
    "plt.imshow(image, vmin=0, vmax=1)"
   ]
  },
  {
   "cell_type": "code",
   "execution_count": 6,
   "metadata": {},
   "outputs": [
    {
     "data": {
      "text/plain": [
       "<matplotlib.image.AxesImage at 0x7f62fe6f8450>"
      ]
     },
     "execution_count": 6,
     "metadata": {},
     "output_type": "execute_result"
    },
    {
     "data": {
      "image/png": "[encoded data removed]",
      "text/plain": [
       "<Figure size 432x288 with 1 Axes>"
      ]
     },
     "metadata": {
      "needs_background": "light"
     },
     "output_type": "display_data"
    }
   ],
   "source": [
    "cv2.imwrite(\"temp.jpg\", cv2.imread(\"bck.png\", 0), [cv2.IMWRITE_JPEG_QUALITY, 10])\n",
    "temp_jpg = cv2.imread(\"temp.jpg\", 0)\n",
    "\n",
    "file_size = os.path.getsize(\"temp.jpg\")\n",
    "plt.title(f\"file size = {file_size} byte\")\n",
    "plt.imshow(temp_jpg, vmin=0, vmax=255)"
   ]
  },
  {
   "cell_type": "markdown",
   "metadata": {},
   "source": [
    "## Z-Scan"
   ]
  },
  {
   "cell_type": "markdown",
   "metadata": {},
   "source": [
    "![](zscan.png)"
   ]
  }
 ],
 "metadata": {
  "kernelspec": {
   "display_name": "Python 3 (ipykernel)",
   "language": "python",
   "name": "python3"
  },
  "language_info": {
   "codemirror_mode": {
    "name": "ipython",
    "version": 3
   },
   "file_extension": ".py",
   "mimetype": "text/x-python",
   "name": "python",
   "nbconvert_exporter": "python",
   "pygments_lexer": "ipython3",
   "version": "3.9.7"
  }
 },
 "nbformat": 4,
 "nbformat_minor": 4
}
