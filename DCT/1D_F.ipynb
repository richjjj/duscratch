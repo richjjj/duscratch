{
 "cells": [
  {
   "cell_type": "markdown",
   "metadata": {},
   "source": [
    "# 离散傅立叶变换(DFT，Discrete Fourier Transform)\n",
    "- https://www.zhihu.com/question/22611929?sort=created"
   ]
  },
  {
   "attachments": {},
   "cell_type": "markdown",
   "metadata": {},
   "source": [
    "## 1D正变换-DFT\n",
    "## \n",
    "$$\n",
    "    F(u) = \\sum_{x=0}^{X_{size}-1}f(x)e^{-2j\\frac{\\pi xu}{X_{size}}}\n",
    "$$"
   ]
  },
  {
   "attachments": {},
   "cell_type": "markdown",
   "metadata": {},
   "source": [
    "## 1D逆变换-IDFT\n",
    "## \n",
    "$$\n",
    "    f(x) = \\frac{1}{U_{size}} \\sum_{u=0}^{U_{size}-1}F(u)e^{2j\\frac{\\pi xu}{X_{size}}}\n",
    "$$"
   ]
  },
  {
   "cell_type": "markdown",
   "metadata": {},
   "source": [
    "- 一般$U_{size} == X_{size}$"
   ]
  },
  {
   "cell_type": "code",
   "execution_count": 1,
   "metadata": {},
   "outputs": [],
   "source": [
    "import numpy as np\n",
    "import cv2\n",
    "import matplotlib.pyplot as plt"
   ]
  },
  {
   "cell_type": "code",
   "execution_count": 2,
   "metadata": {},
   "outputs": [],
   "source": [
    "def dft(data, nfreq):\n",
    "    data   = np.array(data)\n",
    "    ndata  = len(data)\n",
    "\n",
    "    output = np.zeros(nfreq, dtype=np.complex)\n",
    "    for ifreq in range(nfreq):\n",
    "        for idata in range(ndata):\n",
    "            output[ifreq] += data[idata] * np.exp(-2j * np.pi * ifreq * idata / ndata)\n",
    "    return output\n",
    "\n",
    "def idft(dft_data, ndata):\n",
    "    nfreq = len(dft_data)\n",
    "    dft_data = np.array(dft_data)\n",
    "    output = np.zeros(ndata, dtype=np.complex)\n",
    "    for idata in range(ndata):\n",
    "        for ifreq in range(nfreq):\n",
    "            output[idata] += dft_data[ifreq] * np.exp(2j * np.pi * ifreq * idata / ndata)\n",
    "    return output / nfreq"
   ]
  },
  {
   "cell_type": "code",
   "execution_count": 3,
   "metadata": {},
   "outputs": [
    {
     "data": {
      "text/plain": [
       "[<matplotlib.lines.Line2D at 0x7fac927fbfa0>]"
      ]
     },
     "execution_count": 3,
     "metadata": {},
     "output_type": "execute_result"
    },
    {
     "data": {
      "image/png": "[encoded data removed]",
      "text/plain": [
       "<Figure size 432x288 with 1 Axes>"
      ]
     },
     "metadata": {
      "needs_background": "light"
     },
     "output_type": "display_data"
    }
   ],
   "source": [
    "x = np.linspace(0, 10, 100)\n",
    "y = np.tan(x)\n",
    "plt.plot(x, y, \"b-\")"
   ]
  },
  {
   "cell_type": "code",
   "execution_count": 17,
   "metadata": {},
   "outputs": [
    {
     "data": {
      "text/plain": [
       "[<matplotlib.lines.Line2D at 0x7fac8a23b340>]"
      ]
     },
     "execution_count": 17,
     "metadata": {},
     "output_type": "execute_result"
    },
    {
     "data": {
      "image/png": "[encoded data removed]",
      "text/plain": [
       "<Figure size 432x288 with 1 Axes>"
      ]
     },
     "metadata": {
      "needs_background": "light"
     },
     "output_type": "display_data"
    }
   ],
   "source": [
    "nfreq = len(y)\n",
    "ndata = len(y)\n",
    "dft_y = dft(y, nfreq)\n",
    "res_data = idft(dft_y, len(x))\n",
    "plt.plot(x, res_data.real)"
   ]
  },
  {
   "cell_type": "code",
   "execution_count": 5,
   "metadata": {},
   "outputs": [
    {
     "data": {
      "text/plain": [
       "array([1. , 5. , 3. , 0.9, 1.2])"
      ]
     },
     "execution_count": 5,
     "metadata": {},
     "output_type": "execute_result"
    }
   ],
   "source": [
    "data = [1, 5, 3, 0.9, 1.2]\n",
    "dft_data = dft(data, len(data))\n",
    "idft_data = idft(dft_data, len(data))\n",
    "idft_data.real"
   ]
  }
 ],
 "metadata": {
  "kernelspec": {
   "display_name": "Python 3 (ipykernel)",
   "language": "python",
   "name": "python3"
  },
  "language_info": {
   "codemirror_mode": {
    "name": "ipython",
    "version": 3
   },
   "file_extension": ".py",
   "mimetype": "text/x-python",
   "name": "python",
   "nbconvert_exporter": "python",
   "pygments_lexer": "ipython3",
   "version": "3.9.7"
  }
 },
 "nbformat": 4,
 "nbformat_minor": 4
}
